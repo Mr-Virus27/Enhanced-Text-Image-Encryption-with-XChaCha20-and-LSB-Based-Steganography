{
 "cells": [
  {
   "cell_type": "code",
   "execution_count": 1,
   "metadata": {},
   "outputs": [
    {
     "data": {
      "text/plain": [
       "True"
      ]
     },
     "execution_count": 1,
     "metadata": {},
     "output_type": "execute_result"
    }
   ],
   "source": [
    "import cv2\n",
    "import numpy as np\n",
    "\n",
    "\n",
    "def text_to_binary(text):\n",
    "    binary_text = ''.join(format(ord(char), '08b') for char in text)\n",
    "    return binary_text\n",
    "\n",
    "\n",
    "def encode_text(img, text):\n",
    "    binary_text = text_to_binary(text)\n",
    "    # Adding a delimiter to mark the end of the text\n",
    "    binary_text += '1111111111111110'\n",
    "\n",
    "    data_index = 0\n",
    "\n",
    "    img_data = img.flatten()\n",
    "\n",
    "    for pixel_value in img_data:\n",
    "        # Encode the text in the least significant bit of each color channel\n",
    "        img_data[data_index] = int(format(pixel_value, '08b')[\n",
    "                                   :-1] + binary_text[data_index % len(binary_text)], 2)\n",
    "        data_index += 1\n",
    "\n",
    "        # Break if all data is encoded\n",
    "        if data_index == len(binary_text):\n",
    "            break\n",
    "\n",
    "    return img_data.reshape(img.shape)\n",
    "\n",
    "\n",
    "def normalize_color_spacing(img):\n",
    "    # Convert image to LAB color space and normalize the values\n",
    "    lab_img = cv2.cvtColor(img, cv2.COLOR_BGR2LAB)\n",
    "    lab_img[:, :, 0] = cv2.normalize(\n",
    "        lab_img[:, :, 0], None, 0, 255, cv2.NORM_MINMAX)\n",
    "    normalized_img = cv2.cvtColor(lab_img, cv2.COLOR_LAB2BGR)\n",
    "\n",
    "    return normalized_img\n",
    "\n",
    "\n",
    "# Example usage\n",
    "image_path = 'one.png'\n",
    "original_image = cv2.imread(image_path)\n",
    "\n",
    "# Normalize color spacing\n",
    "normalized_image = normalize_color_spacing(original_image)\n",
    "\n",
    "# Encode text into the normalized image\n",
    "secret_message = \"Hello, this is a secret message!\"\n",
    "encoded_image = encode_text(normalized_image, secret_message)\n",
    "\n",
    "# Save the encoded image\n",
    "cv2.imwrite('encoded_image.png', encoded_image)"
   ]
  },
  {
   "cell_type": "code",
   "execution_count": 3,
   "metadata": {},
   "outputs": [
    {
     "name": "stdout",
     "output_type": "stream",
     "text": [
      "Original Message: Hello, this is a secret message!\n",
      "Decoded Message from Loaded Image: \u0000\u000fÿ\n"
     ]
    }
   ],
   "source": [
    "def decode_text(img):\n",
    "    binary_text = ''\n",
    "    img_data = img.flatten()\n",
    "\n",
    "    for pixel_value in img_data:\n",
    "        binary_text += format(pixel_value, '08b')[-1]\n",
    "\n",
    "        # Check for the delimiter indicating the end of the text\n",
    "        if binary_text[-16:] == '1111111111111110':\n",
    "            break\n",
    "\n",
    "    # Convert binary text to ASCII\n",
    "    text = ''.join(chr(int(binary_text[i:i+8], 2))\n",
    "                   for i in range(0, len(binary_text)-16, 8))\n",
    "\n",
    "    return text\n",
    "\n",
    "\n",
    "# Load the encoded image (for demonstration purposes)\n",
    "loaded_encoded_image = cv2.imread('upload/Screenshot (7).png')\n",
    "\n",
    "# Decode the text from the loaded encoded image\n",
    "decoded_message_loaded = decode_text(loaded_encoded_image)\n",
    "\n",
    "print(f\"Original Message: {secret_message}\")\n",
    "print(f\"Decoded Message from Loaded Image: {decoded_message_loaded}\")"
   ]
  },
  {
   "cell_type": "code",
   "execution_count": null,
   "metadata": {},
   "outputs": [],
   "source": []
  }
 ],
 "metadata": {
  "kernelspec": {
   "display_name": "Python 3",
   "language": "python",
   "name": "python3"
  },
  "language_info": {
   "codemirror_mode": {
    "name": "ipython",
    "version": 3
   },
   "file_extension": ".py",
   "mimetype": "text/x-python",
   "name": "python",
   "nbconvert_exporter": "python",
   "pygments_lexer": "ipython3",
   "version": "3.10.9"
  }
 },
 "nbformat": 4,
 "nbformat_minor": 2
}
